{
  "cells": [
    {
      "cell_type": "markdown",
      "id": "39bf7b14",
      "metadata": {
        "id": "39bf7b14"
      },
      "source": [
        "## Buatlah sebuah program yang:\n",
        "\n",
        "   1. Meminta input dari pengguna:\n",
        "\n",
        "       - Nama mahasiswa\n",
        "\n",
        "       - NIM mahasiswa\n",
        "\n",
        "       - Nilai ujian (dalam angka, 0–100)\n",
        "\n",
        "   2. Cek dan tampilkan tipe data dari setiap input.\n",
        "\n",
        "   3. Gunakan if-elif-else untuk menentukan kategori nilai, dengan kriteria sebagai berikut:\n",
        "   \n",
        "```\n",
        "Nilai | Kategori\n",
        "85 - 100 | A (Sangat Baik)\n",
        "75 - 84 | B (Baik)\n",
        "60 - 74 | C (Cukup)\n",
        "40 - 59 | D (Kurang)\n",
        "< 40 | E (Sangat Kurang)\n",
        "```\n",
        "\n",
        "```\n",
        "==== Ekspektasi Output Jawaban : =====\n",
        "Masukkan nama mahasiswa: Sarah\n",
        "Masukkan NIM: 12345678\n",
        "Masukkan nilai ujian (0-100): 81\n",
        "\n",
        "Nama: Sarah (type: <class 'str'>)\n",
        "NIM: 12345678 (type: <class 'str'>)\n",
        "Nilai: 81 (type: <class 'int'>)\n",
        "\n",
        "Hasil Evaluasi:\n",
        "Mahasiswa: Sarah (NIM: 12345678)\n",
        "Nilai Ujian: 81\n",
        "Kategori Nilai: B (Baik)\n",
        "```"
      ]
    },
    {
      "cell_type": "markdown",
      "source": [
        "# Jawaban"
      ],
      "metadata": {
        "id": "wDotzcEoN2hQ"
      },
      "id": "wDotzcEoN2hQ"
    },
    {
      "cell_type": "code",
      "source": [
        "# Create code to asking the users to enter their name, student identification number and exam score.\n",
        "nama_mahasiswa = input(\"Masukkan nama mahasiswa: \")\n",
        "nim_mahasiswa = input(\"Masukkan NIM: \")\n",
        "nilai_ujian = input(\"Masukkan nilai ujian, (0-100): \")\n"
      ],
      "metadata": {
        "colab": {
          "base_uri": "https://localhost:8080/"
        },
        "id": "9gN9loY7P3Eg",
        "outputId": "009a2406-c881-4026-9aa3-1c41de046e97"
      },
      "id": "9gN9loY7P3Eg",
      "execution_count": null,
      "outputs": [
        {
          "name": "stdout",
          "output_type": "stream",
          "text": [
            "Masukkan nama mahasiswa: Sarah\n",
            "Masukkan NIM: 12345678\n",
            "Masukkan nilai ujian, (0-100): 81\n"
          ]
        }
      ]
    },
    {
      "cell_type": "code",
      "source": [
        "# same as the first code but this one displays the overall output\n",
        "nama_mahasiswa = input(\"Masukkan nama mahasiswa: \")\n",
        "nim_mahasiswa = input(\"Masukkan NIM: \")\n",
        "nilai_ujian = input(\"Masukkan nilai ujian, dalam angka(0-100): \")\n",
        "print(\"Nama Mahasiswa:\", nama_mahasiswa)\n",
        "print(\"NIM:\", nim_mahasiswa)\n",
        "print(\"Nilai ujian:\", nilai_ujian)"
      ],
      "metadata": {
        "colab": {
          "base_uri": "https://localhost:8080/"
        },
        "id": "hE1BohYwRol5",
        "outputId": "23ef5e66-241f-42d1-a3db-cf17868dc265"
      },
      "id": "hE1BohYwRol5",
      "execution_count": 11,
      "outputs": [
        {
          "output_type": "stream",
          "name": "stdout",
          "text": [
            "Masukkan nama mahasiswa: Sarah\n",
            "Masukkan NIM: 12345678\n",
            "Masukkan nilai ujian, dalam angka(0-100): 81\n",
            "Nama Mahasiswa: Sarah\n",
            "NIM: 12345678\n",
            "Nilai ujian: 81\n"
          ]
        }
      ]
    },
    {
      "cell_type": "code",
      "source": [
        "# Checking the three types of variabel\n",
        "variabel_x = \"Sarah\"\n",
        "variabel_y = \"12345678\"\n",
        "variabel_z = 81\n",
        "print(\"Nama: Sarah (type:\", type(variabel_x),\")\")\n",
        "print(\"NIM: 12345678 (type:\", type(variabel_y),\")\")\n",
        "print(\"Nilai: 81 (type:\",type(variabel_z),\")\")"
      ],
      "metadata": {
        "colab": {
          "base_uri": "https://localhost:8080/"
        },
        "id": "eOwkvgwYTUgZ",
        "outputId": "f76ebfbf-1722-42f5-bc00-5f87e073fdc0"
      },
      "id": "eOwkvgwYTUgZ",
      "execution_count": null,
      "outputs": [
        {
          "output_type": "stream",
          "name": "stdout",
          "text": [
            "Nama: Sarah (type: <class 'str'> )\n",
            "NIM: 12345678 (type: <class 'str'> )\n",
            "Nilai: 81 (type: <class 'int'> )\n"
          ]
        }
      ]
    },
    {
      "cell_type": "code",
      "metadata": {
        "colab": {
          "base_uri": "https://localhost:8080/"
        },
        "id": "c76d3c4e",
        "outputId": "0351e9cc-a7eb-488a-b611-e599315ba9d1"
      },
      "source": [
        "# Display the evaluation result\n",
        "print(\"Hasil Evaluasi:\")\n",
        "print(f\"Mahasiswa: {nama_mahasiswa}, (NIM: {nim_mahasiswa})\")\n",
        "print(f\"Nilai Ujian: {nilai_ujian}\")\n",
        "\n",
        "# Convert nilai_ujian to integer for comparison\n",
        "nilai_ujian = int(nilai_ujian)\n",
        "\n",
        "# Determine the grade category\n",
        "if 85 <= nilai_ujian <= 100:\n",
        "    kategori = \"A (Sangat Baik)\"\n",
        "elif 75 <= nilai_ujian <= 84:\n",
        "    kategori = \"B (Baik)\"\n",
        "elif 60 <= nilai_ujian <= 74:\n",
        "    kategori = \"C (Cukup)\"\n",
        "elif 40 <= nilai_ujian <= 59:\n",
        "    kategori = \"D (Kurang)\"\n",
        "else:\n",
        "    kategori = \"E (Sangat Kurang)\"\n",
        "\n",
        "print(f\"Kategori Nilai: {kategori}\")"
      ],
      "id": "c76d3c4e",
      "execution_count": 13,
      "outputs": [
        {
          "output_type": "stream",
          "name": "stdout",
          "text": [
            "Hasil Evaluasi:\n",
            "Mahasiswa: Sarah, (NIM: 12345678)\n",
            "Nilai Ujian: 81\n",
            "Kategori Nilai: B (Baik)\n"
          ]
        }
      ]
    },
    {
      "cell_type": "code",
      "source": [
        "#code to input data from user\n",
        "print(\"\\nHasil Evaluasi:\")\n",
        "nama_mahasiswa = input(\"Nama Mahasiswa: \")\n",
        "nim_mahasiswa = input(\"NIM:\")\n",
        "print(f\"Mahasiswa: {nama_mahasiswa}, (NIM: {nim_mahasiswa})\")\n",
        "nilai_ujian = input(\"Nilai ujian: \")\n",
        "print(f\"Nilai Ujian: {nilai_ujian}\")\n",
        "\n",
        "# Convert nilai_ujian to integer for comparison\n",
        "nilai_ujian = int(nilai_ujian)\n",
        "\n",
        "# Determine the grade category\n",
        "if 85 <= nilai_ujian <= 100:\n",
        "    kategori = \"A (Sangat Baik)\"\n",
        "elif 75 <= nilai_ujian <= 84:\n",
        "    kategori = \"B (Baik)\"\n",
        "elif 60 <= nilai_ujian <= 74:\n",
        "    kategori = \"C (Cukup)\"\n",
        "elif 40 <= nilai_ujian <= 59:\n",
        "    kategori = \"D (Kurang)\"\n",
        "else:\n",
        "    kategori = \"E (Sangat Kurang)\"\n",
        "\n",
        "print(f\"Kategori Nilai: {kategori}\")"
      ],
      "metadata": {
        "colab": {
          "base_uri": "https://localhost:8080/"
        },
        "id": "54dbM_w2Oyn9",
        "outputId": "88e450b3-b3c8-4984-a317-307433f67881"
      },
      "id": "54dbM_w2Oyn9",
      "execution_count": 1,
      "outputs": [
        {
          "output_type": "stream",
          "name": "stdout",
          "text": [
            "\n",
            "Hasil Evaluasi:\n",
            "Nama Mahasiswa: Sarah\n",
            "NIM:123456789\n",
            "Mahasiswa: Sarah, (NIM: 123456789)\n",
            "Nilai ujian: 75\n",
            "Nilai Ujian: 75\n",
            "Kategori Nilai: B (Baik)\n"
          ]
        }
      ]
    }
  ],
  "metadata": {
    "kernelspec": {
      "display_name": "Python 3 (ipykernel)",
      "language": "python",
      "name": "python3"
    },
    "language_info": {
      "codemirror_mode": {
        "name": "ipython",
        "version": 3
      },
      "file_extension": ".py",
      "mimetype": "text/x-python",
      "name": "python",
      "nbconvert_exporter": "python",
      "pygments_lexer": "ipython3",
      "version": "3.11.4"
    },
    "colab": {
      "provenance": []
    }
  },
  "nbformat": 4,
  "nbformat_minor": 5
}